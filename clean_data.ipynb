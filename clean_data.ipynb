{
 "cells": [
  {
   "cell_type": "code",
   "execution_count": 2,
   "metadata": {},
   "outputs": [],
   "source": [
    "import pandas as pd\n",
    "from datetime import datetime, timedelta\n",
    "pd.options.mode.copy_on_write = True "
   ]
  },
  {
   "cell_type": "code",
   "execution_count": 3,
   "metadata": {},
   "outputs": [],
   "source": [
    "#Lit le fichier des gares et filtrent sur les gares qui accueillent des voyageurs\n",
    "liste_city = pd.read_csv(\"./data_cleaned/stop_location_infos.csv\", sep=',')"
   ]
  },
  {
   "cell_type": "code",
   "execution_count": 4,
   "metadata": {},
   "outputs": [],
   "source": [
    "#Lit le fichier de stops\n",
    "liste_stops_ter = pd.read_csv(\"./export-ter-gtfs-last/stops.csv\", sep=\",\")\n",
    "liste_stops_ter = liste_stops_ter[[str.strip(x[:18]) == \"StopPoint:OCETrain\" for x in liste_stops_ter[\"stop_id\"]]]\n",
    "liste_stops_ter = pd.merge(liste_stops_ter, liste_city, how=\"left\", on=\"stop_id\")\n"
   ]
  },
  {
   "cell_type": "code",
   "execution_count": 5,
   "metadata": {},
   "outputs": [],
   "source": [
    "# Lit le fichier des temps d'arrêts des trains\n",
    "liste_stop_times_ter = pd.read_csv(\"./export-ter-gtfs-last/stop_times.csv\", sep=\",\")\n",
    "\n",
    "liste_stop_times_ter = liste_stop_times_ter[[str.strip(str(x)[:18]) == \"StopPoint:OCETrain\" for x in liste_stop_times_ter[\"stop_id\"]]]\n",
    "liste_stop_times_ter = pd.merge(liste_stop_times_ter, liste_stops_ter[[\"stop_id\", \"city\"]], how=\"inner\", on=\"stop_id\")\n"
   ]
  },
  {
   "cell_type": "code",
   "execution_count": 6,
   "metadata": {},
   "outputs": [
    {
     "data": {
      "text/plain": [
       "Index(['trip_id', 'arrival_time', 'departure_time', 'stop_id', 'stop_sequence',\n",
       "       'stop_headsign', 'pickup_type', 'drop_off_type', 'shape_dist_traveled',\n",
       "       'city'],\n",
       "      dtype='object')"
      ]
     },
     "execution_count": 6,
     "metadata": {},
     "output_type": "execute_result"
    }
   ],
   "source": [
    "liste_stop_times_ter.columns"
   ]
  },
  {
   "cell_type": "code",
   "execution_count": 7,
   "metadata": {},
   "outputs": [
    {
     "name": "stdout",
     "output_type": "stream",
     "text": [
      "52753\n",
      "819405\n",
      "5955580\n"
     ]
    }
   ],
   "source": [
    "liste_trips_ter = pd.read_csv(\"./export-ter-gtfs-last/trips.csv\", sep=\",\")\n",
    "liste_calendar_ter = pd.read_csv(\"./export-ter-gtfs-last/calendar_dates.csv\", sep=\",\")\n",
    "print(len(liste_trips_ter))\n",
    "\n",
    "liste_trips_ter = pd.merge(liste_trips_ter, liste_calendar_ter[[\"service_id\", \"date\"]], how=\"inner\", on=\"service_id\")\n",
    "\n",
    "print(len(liste_trips_ter))\n",
    "\n",
    "liste_stop_times_ter = pd.merge(liste_stop_times_ter, liste_trips_ter[[\"date\", \"trip_id\"]], how=\"inner\", on=\"trip_id\")\n",
    "\n",
    "print(len(liste_stop_times_ter))"
   ]
  },
  {
   "cell_type": "code",
   "execution_count": 9,
   "metadata": {},
   "outputs": [],
   "source": [
    "liste_stop_times_ter[\"date\"] = [datetime(int(str(row.date)[:4]), int(str(row.date)[4:6]),  int(str(row.date)[-2:]), 0 if int(str(row.arrival_time).split(\":\")[0]) >= 24 else int(str(row.arrival_time).split(\":\")[0]), int(str(row.arrival_time).split(\":\")[1])) for row in liste_stop_times_ter.itertuples()]"
   ]
  },
  {
   "cell_type": "code",
   "execution_count": 10,
   "metadata": {},
   "outputs": [
    {
     "data": {
      "text/plain": [
       "0   2024-11-18 05:00:00\n",
       "1   2024-11-18 05:08:00\n",
       "2   2024-11-18 05:30:00\n",
       "3   2024-11-18 05:40:00\n",
       "4   2024-11-18 05:49:00\n",
       "Name: date, dtype: datetime64[ns]"
      ]
     },
     "execution_count": 10,
     "metadata": {},
     "output_type": "execute_result"
    }
   ],
   "source": [
    "liste_stop_times_ter.date.head(5)"
   ]
  },
  {
   "cell_type": "code",
   "execution_count": 49,
   "metadata": {},
   "outputs": [],
   "source": [
    "def check_destination(destination, layer):\n",
    "    return len(layer.loc[layer[\"city\"] == destination]) > 0\n",
    "\n",
    "def path_back_propagation(layers, destination):\n",
    "    paths = []\n",
    "    city_to_fetch = destination\n",
    "    for layer in reversed(layers):\n",
    "        data = layer.loc[layer[\"city\"] == city_to_fetch]\n",
    "        if len(data) == 0:\n",
    "            return \"error\"\n",
    "        data = data.iloc[0]\n",
    "        paths.append(data['current_path'])\n",
    "        if data[\"previous_path\"] == \"\":\n",
    "            return paths[::-1]\n",
    "        city_to_fetch = data[\"previous_path\"].split(';')[0]\n",
    "\n",
    "def init_row_list():\n",
    "    return {\n",
    "        'trip_id': [],\n",
    "        'arrival_time': [],\n",
    "        'departure_time': [],\n",
    "        'stop_sequence': [],\n",
    "        'stop_id': [],\n",
    "        'stop_headsign': [],\n",
    "        'pickup_type': [],\n",
    "        'drop_off_type': [],\n",
    "        'shape_dist_traveled': [],\n",
    "        'city': [],\n",
    "        'date': [],\n",
    "        'previous_path': [],\n",
    "    }\n",
    "\n",
    "def get_format_data_to_list(row_list, row):\n",
    "    row_list[\"trip_id\"].append(row.trip_id)\n",
    "    row_list[\"arrival_time\"].append(row.arrival_time)\n",
    "    row_list[\"departure_time\"].append(row.departure_time)\n",
    "    row_list[\"stop_id\"].append(row.stop_id)\n",
    "    row_list[\"stop_sequence\"].append(row.stop_sequence)\n",
    "    row_list[\"stop_headsign\"].append(row.stop_headsign)\n",
    "    row_list[\"pickup_type\"].append(row.pickup_type)\n",
    "    row_list[\"drop_off_type\"].append(row.drop_off_type)\n",
    "    row_list[\"shape_dist_traveled\"].append(row.shape_dist_traveled)\n",
    "    row_list[\"city\"].append(row.city)\n",
    "    row_list[\"date\"].append(row.date)\n",
    "    row_list[\"previous_path\"].append(row.previous_path)\n",
    "    return row_list\n",
    "    \n",
    "\n",
    "def filter_direction_trip(data, namesList, start_date=False):\n",
    "    find_name = False\n",
    "    trip_id = \"\"\n",
    "    end_date = \"\"\n",
    "    default_value = False\n",
    "    row_list = init_row_list()\n",
    "\n",
    "    if start_date != False:\n",
    "        end_date = start_date + timedelta(days=1)\n",
    "        default_value = True\n",
    "\n",
    "    data = data.sort_values(by=[\"trip_id\", \"stop_sequence\"])\n",
    "\n",
    "    for row in data.itertuples():\n",
    "        if not default_value:\n",
    "            date_str = row.previous_path.split(';')[-1]\n",
    "            date = datetime.strptime(date_str, \"%d/%m/%Y, %H:%M:%S\")\n",
    "            start_date = date + timedelta(minutes=5)\n",
    "            end_date = start_date + timedelta(days=1)\n",
    "\n",
    "        if row.trip_id != trip_id:\n",
    "            trip_id = row.trip_id\n",
    "            find_name = False\n",
    "\n",
    "        if row.city in namesList :#and (row.date >= start_date and row.date <= end_date):\n",
    "            find_name = True\n",
    "\n",
    "        if find_name:\n",
    "            row_list = get_format_data_to_list(row_list, row)\n",
    " \n",
    "    return pd.DataFrame(row_list)\n",
    "\n",
    "def shortest_path(depart, destination, start_date):\n",
    "    layers = []\n",
    "    not_founded = 0 # vérifie qu'on a pas trouvé un chemin vers l'arrivée\n",
    "\n",
    "    start_date = datetime.strptime(start_date, \"%Y-%m-%d %H:%M:%S\")\n",
    "    end_date = start_date + timedelta(days=1)\n",
    "    date_mask = (liste_stop_times_ter[\"date\"] > start_date) & (liste_stop_times_ter[\"date\"] < end_date)\n",
    "\n",
    "    trips_id = set(liste_stop_times_ter.loc[(liste_stop_times_ter[\"city\"] == depart) & date_mask][\"trip_id\"])\n",
    "    layer = liste_stop_times_ter.loc[(liste_stop_times_ter[\"trip_id\"].isin(trips_id)) & date_mask]\n",
    "    \n",
    "    layer[\"previous_path\"] = \"\"\n",
    "    layer = filter_direction_trip(layer, [depart], start_date)  \n",
    "    layer = layer.sort_values(by=\"date\").drop_duplicates(subset=[\"stop_id\"])\n",
    "\n",
    "    \n",
    "    layer[\"current_path\"] = layer[\"trip_id\"] + \";\" + layer[\"city\"] + \";\" + layer[\"date\"].dt.strftime(\"%d/%m/%Y, %H:%M:%S\")\n",
    "\n",
    "    layers.append(layer)\n",
    "\n",
    "    while not_founded < 100:\n",
    "        if check_destination(destination, layers[-1]):\n",
    "            print(path_back_propagation(layers, destination))\n",
    "            return \"destination trouver\"\n",
    "        \n",
    "        filtered_data = liste_stop_times_ter.loc[(liste_stop_times_ter[\"city\"].isin(layers[-1][\"city\"].unique())) & date_mask]\n",
    "\n",
    "        paths = {}\n",
    "        for row in filtered_data.itertuples():\n",
    "            paths[row.trip_id] = str(row.city) + \";\" + row.date.strftime(\"%d/%m/%Y, %H:%M:%S\")\n",
    "        \n",
    "        trips_id = set(filtered_data[\"trip_id\"]) - set(layers[-1][\"trip_id\"])\n",
    "        layer = liste_stop_times_ter.loc[(liste_stop_times_ter[\"trip_id\"].isin(trips_id)) & date_mask]\n",
    "        \n",
    "        layer[\"previous_path\"] = [paths[data.trip_id] for data in layer.itertuples()]\n",
    "        layer = filter_direction_trip(layer, layers[-1][\"city\"].unique())\n",
    "\n",
    "        layer = layer.sort_values(by=\"date\").drop_duplicates(subset=[\"stop_id\"])\n",
    "        \n",
    "        \n",
    "        layer[\"current_path\"] = layer[\"trip_id\"] + \";\" + layer[\"city\"] + \";\" + layer[\"date\"].dt.strftime(\"%d/%m/%Y, %H:%M:%S\")\n",
    "        layers.append(layer)\n",
    "        \n",
    "        not_founded += 1\n",
    "    return \"not found excedeed 100 search\""
   ]
  },
  {
   "cell_type": "code",
   "execution_count": 51,
   "metadata": {},
   "outputs": [
    {
     "name": "stdout",
     "output_type": "stream",
     "text": [
      "['OCESN830501F3492174:2024-10-11T00:34:04Z;STRASBOURG;19/11/2024, 05:50:00', 'OCESN839162F2879366:2024-10-10T10:27:58Z;PARIS;19/11/2024, 09:54:00', 'OCESN16753F3163270:2024-10-11T00:34:04Z;LE MANS;19/11/2024, 08:50:00', 'OCESN857691F3166965:2024-10-11T00:34:04Z;RENNES;19/11/2024, 08:19:00', \"OCESN855505F3097753:2024-10-11T00:34:04Z;L'HERMITAGE;19/11/2024, 06:13:00\"]\n"
     ]
    },
    {
     "data": {
      "text/plain": [
       "'destination trouver'"
      ]
     },
     "execution_count": 51,
     "metadata": {},
     "output_type": "execute_result"
    }
   ],
   "source": [
    "depart = \"HAGUENAU\"\n",
    "destination = \"L'HERMITAGE\"\n",
    "shortest_path(depart, destination, \"2024-11-19 05:00:00\")\n"
   ]
  }
 ],
 "metadata": {
  "kernelspec": {
   "display_name": "graph",
   "language": "python",
   "name": "python3"
  },
  "language_info": {
   "codemirror_mode": {
    "name": "ipython",
    "version": 3
   },
   "file_extension": ".py",
   "mimetype": "text/x-python",
   "name": "python",
   "nbconvert_exporter": "python",
   "pygments_lexer": "ipython3",
   "version": "3.10.12"
  }
 },
 "nbformat": 4,
 "nbformat_minor": 2
}
