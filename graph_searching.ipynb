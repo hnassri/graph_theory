{
 "cells": [
  {
   "cell_type": "code",
   "execution_count": 1,
   "metadata": {},
   "outputs": [],
   "source": [
    "import pandas as pd\n",
    "from datetime import datetime, timedelta\n",
    "pd.options.mode.copy_on_write = True "
   ]
  },
  {
   "cell_type": "code",
   "execution_count": 2,
   "metadata": {},
   "outputs": [],
   "source": [
    "# Lit le fichier des temps d'arrêts des trains\n",
    "liste_stop_times_ter = pd.read_csv(\"./data_cleaned/stop_times_ter_full.csv\", sep=\",\")"
   ]
  },
  {
   "cell_type": "code",
   "execution_count": 3,
   "metadata": {},
   "outputs": [],
   "source": [
    "liste_stop_times_ter = liste_stop_times_ter.astype({\"date\": \"datetime64[ns]\"})"
   ]
  },
  {
   "cell_type": "code",
   "execution_count": 4,
   "metadata": {},
   "outputs": [
    {
     "data": {
      "text/plain": [
       "Unnamed: 0                      int64\n",
       "trip_id                        object\n",
       "arrival_time                   object\n",
       "departure_time                 object\n",
       "stop_id                        object\n",
       "stop_sequence                   int64\n",
       "stop_headsign                 float64\n",
       "pickup_type                     int64\n",
       "drop_off_type                   int64\n",
       "shape_dist_traveled           float64\n",
       "city                           object\n",
       "date                   datetime64[ns]\n",
       "dtype: object"
      ]
     },
     "execution_count": 4,
     "metadata": {},
     "output_type": "execute_result"
    }
   ],
   "source": [
    "liste_stop_times_ter.dtypes"
   ]
  },
  {
   "cell_type": "code",
   "execution_count": 5,
   "metadata": {},
   "outputs": [],
   "source": [
    "def check_destination(destination, layer):\n",
    "    return len(layer.loc[layer[\"city\"] == destination]) > 0\n",
    "\n",
    "def path_back_propagation(layers, destination):\n",
    "    paths = []\n",
    "    city_to_fetch = destination\n",
    "    for layer in reversed(layers):\n",
    "        data = layer.loc[layer[\"city\"] == city_to_fetch]\n",
    "        if len(data) == 0:\n",
    "            return \"error\"\n",
    "        data = data.iloc[0]\n",
    "        paths.append(data['current_path'])\n",
    "        if data[\"previous_path\"] == \"\":\n",
    "            return paths[::-1]\n",
    "        city_to_fetch = data[\"previous_path\"].split(';')[1]\n",
    "\n",
    "\n",
    "def filter_direction_trip(data, namesList, start_date=False):\n",
    "    find_name = False\n",
    "    trip_id = \"\"\n",
    "    end_date = \"\"\n",
    "    default_value = False\n",
    "    rows = []\n",
    "\n",
    "    if start_date != False:\n",
    "        end_date = start_date + timedelta(days=1)\n",
    "        default_value = True\n",
    "\n",
    "    data = data.sort_values(by=[\"trip_id\", \"stop_sequence\"])\n",
    "\n",
    "    for row in data.itertuples():\n",
    "        if not default_value:\n",
    "            date_str = row.previous_path.split(';')[-1]\n",
    "            date = datetime.strptime(date_str, \"%d/%m/%Y, %H:%M:%S\")\n",
    "            start_date = date + timedelta(minutes=5)\n",
    "            end_date = start_date + timedelta(days=1)\n",
    "\n",
    "        if row.trip_id != trip_id:\n",
    "            trip_id = row.trip_id\n",
    "            find_name = False\n",
    "\n",
    "        if row.city in namesList :#and (row.date >= start_date and row.date <= end_date):\n",
    "            find_name = True\n",
    "\n",
    "        if find_name:\n",
    "            rows.append(row)\n",
    " \n",
    "    return pd.DataFrame(rows)\n",
    "\n",
    "def shortest_path(depart, destination, start_date):\n",
    "    layers = []\n",
    "    not_founded = 0 # vérifie qu'on a pas trouvé un chemin vers l'arrivée\n",
    "\n",
    "    start_date = datetime.strptime(start_date, \"%Y-%m-%d %H:%M:%S\")\n",
    "    end_date = start_date + timedelta(days=1)\n",
    "    date_mask = (liste_stop_times_ter[\"date\"] > start_date) & (liste_stop_times_ter[\"date\"] < end_date)\n",
    "\n",
    "    #Raccourci le jeu de donnée nécessaire pour la recherche pour une date spécifique\n",
    "    period_stop_time = liste_stop_times_ter.loc[date_mask]\n",
    "\n",
    "    trips_id = set(period_stop_time.loc[(period_stop_time[\"city\"] == depart)][\"trip_id\"])\n",
    "    layer = period_stop_time.loc[(period_stop_time[\"trip_id\"].isin(trips_id))]\n",
    "    \n",
    "    layer[\"previous_path\"] = \"\"\n",
    "    layer = filter_direction_trip(layer, [depart], start_date)  \n",
    "    layer = layer.sort_values(by=\"date\").drop_duplicates(subset=[\"stop_id\"])\n",
    "\n",
    "    \n",
    "    layer[\"current_path\"] = layer[\"trip_id\"] + \";\" + layer[\"city\"] + \";\" + layer[\"date\"].dt.strftime(\"%d/%m/%Y, %H:%M:%S\")\n",
    "\n",
    "    layers.append(layer)\n",
    "\n",
    "    while not_founded < 100:\n",
    "        if check_destination(destination, layers[-1]):\n",
    "            print(path_back_propagation(layers, destination))\n",
    "            return \"destination trouver\"\n",
    "        \n",
    "        filtered_data = period_stop_time.loc[(period_stop_time[\"city\"].isin(layers[-1][\"city\"].unique()))]\n",
    "\n",
    "        paths = {}\n",
    "        for row in filtered_data.itertuples():\n",
    "            paths[row.trip_id] = row.trip_id + \";\" + str(row.city) + \";\" + row.date.strftime(\"%d/%m/%Y, %H:%M:%S\")\n",
    "        \n",
    "        trips_id = set(filtered_data[\"trip_id\"]) - set(layers[-1][\"trip_id\"])\n",
    "        layer = period_stop_time.loc[(period_stop_time[\"trip_id\"].isin(trips_id))]\n",
    "        \n",
    "        layer[\"previous_path\"] = [paths[data.trip_id] for data in layer.itertuples()]\n",
    "        layer = filter_direction_trip(layer, layers[-1][\"city\"].unique())\n",
    "\n",
    "        layer = layer.sort_values(by=\"date\").drop_duplicates(subset=[\"stop_id\"])\n",
    "        \n",
    "        \n",
    "        layer[\"current_path\"] = layer[\"trip_id\"] + \";\" + layer[\"city\"] + \";\" + layer[\"date\"].dt.strftime(\"%d/%m/%Y, %H:%M:%S\")\n",
    "        layer.to_csv(\"data_cleaned/test.csv\")\n",
    "        layers.append(layer)\n",
    "        \n",
    "        not_founded += 1\n",
    "    return \"not found excedeed 100 search\""
   ]
  },
  {
   "cell_type": "code",
   "execution_count": 7,
   "metadata": {},
   "outputs": [
    {
     "name": "stdout",
     "output_type": "stream",
     "text": [
      "['OCESN831501F3729725:2025-01-22T00:42:25Z;COLMAR;28/01/2025, 06:29:00', 'OCESN96201F3725715:2025-01-22T00:42:25Z;MULHOUSE;28/01/2025, 06:14:00', 'OCESN839550F3798183:2025-01-22T00:42:25Z;PARIS;28/01/2025, 09:46:00', 'OCESN862507F3752489:2025-01-22T00:42:25Z;LE MANS;28/01/2025, 08:50:00', 'OCESN857691F3532276:2025-01-22T00:42:25Z;RENNES;28/01/2025, 08:19:00', \"OCESN855505F3526583:2025-01-22T00:42:25Z;L'HERMITAGE;28/01/2025, 06:12:00\"]\n"
     ]
    },
    {
     "data": {
      "text/plain": [
       "'destination trouver'"
      ]
     },
     "execution_count": 7,
     "metadata": {},
     "output_type": "execute_result"
    }
   ],
   "source": [
    "depart = \"METZERAL\"\n",
    "destination = \"L'HERMITAGE\"\n",
    "shortest_path(depart, destination, \"2025-01-28 05:00:00\")\n"
   ]
  }
 ],
 "metadata": {
  "kernelspec": {
   "display_name": "graph",
   "language": "python",
   "name": "python3"
  },
  "language_info": {
   "codemirror_mode": {
    "name": "ipython",
    "version": 3
   },
   "file_extension": ".py",
   "mimetype": "text/x-python",
   "name": "python",
   "nbconvert_exporter": "python",
   "pygments_lexer": "ipython3",
   "version": "3.10.12"
  }
 },
 "nbformat": 4,
 "nbformat_minor": 2
}
